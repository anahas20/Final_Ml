{
 "cells": [
  {
   "cell_type": "code",
   "execution_count": 1,
   "metadata": {},
   "outputs": [],
   "source": [
    "import numpy as np\n",
    "import twitter, re, datetime, pandas as pd\n",
    "import warnings\n",
    "warnings.filterwarnings(\"ignore\")\n",
    "import matplotlib.pyplot as plt\n",
    "import seaborn as sns\n",
    "from sklearn.model_selection import train_test_split\n",
    "from sklearn.preprocessing import StandardScaler\n",
    "from sklearn.pipeline import Pipeline\n",
    "from sklearn.linear_model import LogisticRegression\n",
    "from sklearn.tree import DecisionTreeClassifier\n",
    "from sklearn.ensemble import RandomForestClassifier\n",
    "from sklearn.svm import SVC\n",
    "from sklearn.linear_model import LinearRegression\n",
    "from sklearn.ensemble import GradientBoostingClassifier"
   ]
  },
  {
   "cell_type": "markdown",
   "metadata": {},
   "source": [
    "___\n",
    "# [1] Setup Twitter API\n",
    "\n",
    "##### This will be done on the following steps\n",
    "- 1. Setup API keys\n",
    "- 2. Test function by using **@nytimes** account\n",
    "- 3. Print results\n",
    "- 4. Setup TweetMiner function\n",
    "___"
   ]
  },
  {
   "cell_type": "code",
   "execution_count": 2,
   "metadata": {},
   "outputs": [
    {
     "data": {
      "text/plain": [
       "twitter.api.Api"
      ]
     },
     "execution_count": 2,
     "metadata": {},
     "output_type": "execute_result"
    }
   ],
   "source": [
    "# Taken from Mike Taylor A Python wrapper around the Twitter API.\n",
    "# https://github.com/bear/python-twitter\n",
    "\n",
    "twitter_keys = {\n",
    "    'consumer_key':        'L4sziHBqV4VUIfKezbos0JMVl',\n",
    "    'consumer_secret':     'lJau6R7GIHFwoGR5wB3PlLQPXBChwzJFJ9WGXXtazcDSA1Vb1X',\n",
    "    'access_token_key':    '941359629606539264-05XcmQfdwMXTbPNWS3r7cZThvbQBxCK',\n",
    "    'access_token_secret': 'VdE3VJVk6oxbohQGcw7WYA5Tg4Sr8kW9duTO1wxmB6qXk'\n",
    "}\n",
    "\n",
    "api = twitter.Api(\n",
    "    consumer_key         =   twitter_keys['consumer_key'],\n",
    "    consumer_secret      =   twitter_keys['consumer_secret'],\n",
    "    access_token_key     =   twitter_keys['access_token_key'],\n",
    "    access_token_secret  =   twitter_keys['access_token_secret'],\n",
    "    tweet_mode = 'extended'\n",
    ")\n",
    "\n",
    "# double check if the API is working\n",
    "\n",
    "type(api)"
   ]
  },
  {
   "cell_type": "code",
   "execution_count": 3,
   "metadata": {},
   "outputs": [
    {
     "data": {
      "text/plain": [
       "{'created_at': 'Tue Dec 08 20:40:04 +0000 2020',\n",
       " 'favorite_count': 7,\n",
       " 'full_text': 'Scientists are tracking coronavirus outbreaks in New York by monitoring the smelly, gray sewage that flows through underground pipes in hopes of identifying clusters days before they appear through patient testing. https://t.co/fGOZRg7SS7',\n",
       " 'hashtags': [],\n",
       " 'id': 1336410237952274433,\n",
       " 'id_str': '1336410237952274433',\n",
       " 'lang': 'en',\n",
       " 'retweet_count': 3,\n",
       " 'source': '<a href=\"http://www.socialflow.com\" rel=\"nofollow\">SocialFlow</a>',\n",
       " 'urls': [{'expanded_url': 'https://nyti.ms/2JLnBFD',\n",
       "   'url': 'https://t.co/fGOZRg7SS7'}],\n",
       " 'user': {'created_at': 'Fri Mar 02 20:41:42 +0000 2007',\n",
       "  'description': 'News tips? Share them here: https://t.co/ghL9OoYKMM',\n",
       "  'favourites_count': 18368,\n",
       "  'followers_count': 48380272,\n",
       "  'following': True,\n",
       "  'friends_count': 902,\n",
       "  'id': 807095,\n",
       "  'id_str': '807095',\n",
       "  'listed_count': 205583,\n",
       "  'location': 'New York City',\n",
       "  'name': 'The New York Times',\n",
       "  'profile_background_color': '131516',\n",
       "  'profile_background_image_url': 'http://abs.twimg.com/images/themes/theme14/bg.gif',\n",
       "  'profile_background_image_url_https': 'https://abs.twimg.com/images/themes/theme14/bg.gif',\n",
       "  'profile_background_tile': True,\n",
       "  'profile_banner_url': 'https://pbs.twimg.com/profile_banners/807095/1584666392',\n",
       "  'profile_image_url': 'http://pbs.twimg.com/profile_images/1098244578472280064/gjkVMelR_normal.png',\n",
       "  'profile_image_url_https': 'https://pbs.twimg.com/profile_images/1098244578472280064/gjkVMelR_normal.png',\n",
       "  'profile_link_color': '607696',\n",
       "  'profile_sidebar_border_color': 'FFFFFF',\n",
       "  'profile_sidebar_fill_color': 'EFEFEF',\n",
       "  'profile_text_color': '333333',\n",
       "  'profile_use_background_image': True,\n",
       "  'screen_name': 'nytimes',\n",
       "  'statuses_count': 415730,\n",
       "  'url': 'http://t.co/ahvuWqicF9',\n",
       "  'verified': True},\n",
       " 'user_mentions': []}"
      ]
     },
     "execution_count": 3,
     "metadata": {},
     "output_type": "execute_result"
    }
   ],
   "source": [
    "# There is a limit set on the count by Twitter API, can't exceed 200\n",
    "# Link with the highlighted text\n",
    "# https://tinyurl.com/y3cx3m6a\n",
    "\n",
    "# A first test trial to check everything is working. We are using Joe Biden's Account\n",
    "# https://twitter.com/JoeBiden\n",
    "\n",
    "x = api.GetUserTimeline(screen_name=\"nytimes\", count=5, include_rts=False)\n",
    "x = [_.AsDict() for _ in x]\n",
    "\n",
    "x[0]"
   ]
  },
  {
   "cell_type": "code",
   "execution_count": 4,
   "metadata": {},
   "outputs": [
    {
     "name": "stdout",
     "output_type": "stream",
     "text": [
      "1336410237952274433\n",
      "Scientists are tracking coronavirus outbreaks in New York by monitoring the smelly, gray sewage that flows through underground pipes in hopes of identifying clusters days before they appear through patient testing. https://t.co/fGOZRg7SS7\n",
      "____________________________\n",
      "1336408363954008068\n",
      "Why can't social networks like Facebook and Twitter stop fake accounts?\n",
      "\n",
      "The answer has to do with the enormity of the platforms, the complexity of catching fakes, and the business incentives of the companies that run the sites. https://t.co/t9WgHxCWu8\n",
      "____________________________\n",
      "1336405811149426688\n",
      "Here’s a guide to some other commonly asked questions about Britain’s vaccine rollout. https://t.co/506p9H70sM\n",
      "____________________________\n",
      "1336405217072586758\n",
      "Sen. Ron Johnson has suggested that the dangers of the coronavirus have been overblown and excessively regulated. Now the Wisconsin Republican is using his Senate panel to amplify dubious theories and questionable treatments pushed by President Trump.\n",
      "https://t.co/xe7XwAPcLW\n",
      "____________________________\n",
      "1336400165989720069\n",
      "Stressed Americans are dealing with so-called Pandemic Stomach, acid-churning episodes that are resulting in increased demand for — and shortages of — over-the-counter and prescription antacids. https://t.co/M8UidMwKvW\n",
      "____________________________\n"
     ]
    }
   ],
   "source": [
    "# As you can see we get a list of information about each tweet\n",
    "# We want to print the tweet text and tweet ID\n",
    "\n",
    "\n",
    "for element in x:\n",
    "    print(element['id'])\n",
    "    print(element['full_text'])\n",
    "    print('____________________________')"
   ]
  },
  {
   "cell_type": "code",
   "execution_count": 5,
   "metadata": {},
   "outputs": [
    {
     "name": "stdout",
     "output_type": "stream",
     "text": [
      "<class 'dict'>\n"
     ]
    },
    {
     "data": {
      "text/plain": [
       "1336410237952274433"
      ]
     },
     "execution_count": 5,
     "metadata": {},
     "output_type": "execute_result"
    }
   ],
   "source": [
    "# We could call the Tweet ID\n",
    "\n",
    "print(type(x[0]))\n",
    "x[0]['id']"
   ]
  },
  {
   "cell_type": "markdown",
   "metadata": {},
   "source": [
    "#### TweetMiner"
   ]
  },
  {
   "cell_type": "code",
   "execution_count": 6,
   "metadata": {},
   "outputs": [],
   "source": [
    "#TweetMiner function from Bhishan Poudel and Mike Roman\n",
    "\n",
    "class TweetMiner(object):\n",
    "\n",
    "    \n",
    "    def __init__(self, api, result_limit = 200):\n",
    "        \n",
    "        self.api = api        \n",
    "        self.result_limit = result_limit\n",
    "        \n",
    "\n",
    "    def mine_user_tweets(self, user=\"nytimes\", mine_retweets=False, max_pages=20):\n",
    "\n",
    "        data           =  []\n",
    "        last_tweet_id  =  False\n",
    "        page           =  1\n",
    "        \n",
    "        while page <= max_pages:\n",
    "            \n",
    "            if last_tweet_id:\n",
    "                statuses   =   self.api.GetUserTimeline(screen_name=user, count=self.result_limit, max_id=last_tweet_id - 1, include_rts=mine_retweets)\n",
    "                statuses = [ _.AsDict() for _ in statuses]\n",
    "            else:\n",
    "                statuses   =   self.api.GetUserTimeline(screen_name=user, count=self.result_limit, include_rts=mine_retweets)\n",
    "                statuses = [_.AsDict() for _ in statuses]\n",
    "                \n",
    "            for item in statuses:\n",
    "                # Using try except here.\n",
    "                # When retweets = 0 we get an error (GetUserTimeline fails to create a key, 'retweet_count')\n",
    "                try:\n",
    "                    mined = {\n",
    "                        'tweet_id':        item['id'],\n",
    "                        'handle':          item['user']['screen_name'],\n",
    "                        'retweet_count':   item['retweet_count'],\n",
    "                        'text':            item['full_text'],\n",
    "                        'mined_at':        datetime.datetime.now(),\n",
    "                        'created_at':      item['created_at'],\n",
    "                    }\n",
    "                \n",
    "                except:\n",
    "                        mined = {\n",
    "                        'tweet_id':        item['id'],\n",
    "                        'handle':          item['user']['screen_name'],\n",
    "                        'retweet_count':   0,\n",
    "                        'text':            item['full_text'],\n",
    "                        'mined_at':        datetime.datetime.now(),\n",
    "                        'created_at':      item['created_at'],\n",
    "                    }\n",
    "                \n",
    "                last_tweet_id = item['id']\n",
    "                data.append(mined)\n",
    "                \n",
    "            page += 1\n",
    "            \n",
    "        return data"
   ]
  },
  {
   "cell_type": "markdown",
   "metadata": {},
   "source": [
    "# [2] Establishing Class\n",
    "### ---------------------------\n",
    "##### This will be done on the following steps\n",
    "- 1. Setup result limit (200) on TweetMiner\n",
    "- 2. Mine 4 __Far left__ Media accounts **[@NewYorker ; @voxdotcom ; @nytopinion ; @Newsweek]** tweets\n",
    "- 3. Mine 4 __Far Right__ Media accounts **[@DailyMail ; @FoxNewsOpinion ; @NYPostOpinion ; @NRO]** tweets\n",
    "- 4. Print results\n",
    "- 5. Convert output tweets to a pandas dataframe into two group (**Far Left** and **Far Right**)"
   ]
  },
  {
   "cell_type": "code",
   "execution_count": 7,
   "metadata": {},
   "outputs": [],
   "source": [
    "# Creating a limit of 200 - Complying with rate limit request\n",
    "\n",
    "miner = TweetMiner(api, result_limit=200)"
   ]
  },
  {
   "cell_type": "code",
   "execution_count": 8,
   "metadata": {},
   "outputs": [],
   "source": [
    "# Creating the two classes\n",
    "\n",
    "# Far-Left\n",
    "\n",
    "newyorker = miner.mine_user_tweets(user=\"NewYorker\")\n",
    "vox = miner.mine_user_tweets(user=\"voxdotcom\")\n",
    "nytimes = miner.mine_user_tweets(user=\"nytopinion\")\n",
    "newsweek = miner.mine_user_tweets(user=\"Newsweek\")\n",
    "\n",
    "# Far-Right\n",
    "\n",
    "dailymail = miner.mine_user_tweets(user=\"DailyMail\")\n",
    "foxnews = miner.mine_user_tweets(user=\"FoxNewsOpinion\")\n",
    "nypost = miner.mine_user_tweets(user=\"NYPostOpinion\")\n",
    "nationalreview = miner.mine_user_tweets(user=\"NRO\")"
   ]
  },
  {
   "cell_type": "code",
   "execution_count": 9,
   "metadata": {},
   "outputs": [
    {
     "name": "stdout",
     "output_type": "stream",
     "text": [
      "“America’s gaping, cosmic black hole and here they come with another Band-Aid to patch it.” Read a new short story by John Edgar Wideman. https://t.co/MnSlhbquB5\n",
      "---\n",
      "The UK granted temporary emergency use authorization for the Pfizer and BioNTech vaccine last week.\n",
      "\n",
      "The country purchased 40 million doses of this version of the two-dose vaccine, which will go toward inoculating 20 million people through 2021.\n",
      "https://t.co/WZKHNUopoL\n",
      "---\n",
      "For judges and their families, better security is a matter of life and death, writes Judge Esther Salas, whose only son was murdered in July by an anti-feminist lawyer who had come to her home armed with a gun https://t.co/815lRunp37\n",
      "---\n",
      "10M in U.S. could get COVID in 6 months after vaccine introduction with current infection rates https://t.co/lMBTXrV4wz\n",
      "---\n"
     ]
    }
   ],
   "source": [
    "# Printing the first tweet to see our results\n",
    "\n",
    "left=[newyorker,vox,nytimes,newsweek]\n",
    "\n",
    "for x in left:\n",
    "\n",
    "    print(x[1]['text'])\n",
    "    print('---')"
   ]
  },
  {
   "cell_type": "code",
   "execution_count": 10,
   "metadata": {},
   "outputs": [
    {
     "name": "stdout",
     "output_type": "stream",
     "text": [
      "Trump claims 'the next administration will be the Trump administration' if legislators or the Supreme Court have 'the courage' to overthrow election https://t.co/CH9s6iJiZc\n",
      "---\n",
      "Ex-FBI Agent: President Trump, don’t say ‘You’re Fired!’ to Mueller https://t.co/F3D9gSFnap\n",
      "---\n",
      "Avoiding vaccine puts everyone else at risk — double for first responders https://t.co/GEN8xNBaH7 https://t.co/quNqYLbtmn\n",
      "---\n",
      "The Tsunami of Virtue-Signaling in Financial Services | https://t.co/yrud42zHoE via Eric Grover https://t.co/MqJTDgxIUL\n",
      "---\n"
     ]
    }
   ],
   "source": [
    "# Printing the first tweet to see our results\n",
    "\n",
    "right=[dailymail,foxnews,nypost,nationalreview]\n",
    "\n",
    "for x in right:\n",
    "\n",
    "    print(x[1]['text'])\n",
    "    print('---')"
   ]
  },
  {
   "cell_type": "markdown",
   "metadata": {},
   "source": [
    "___\n",
    "___"
   ]
  },
  {
   "cell_type": "markdown",
   "metadata": {},
   "source": [
    "#### Creating dataframe"
   ]
  },
  {
   "cell_type": "code",
   "execution_count": 11,
   "metadata": {},
   "outputs": [
    {
     "name": "stdout",
     "output_type": "stream",
     "text": [
      "(11985, 6)\n"
     ]
    },
    {
     "data": {
      "text/html": [
       "<div>\n",
       "<style scoped>\n",
       "    .dataframe tbody tr th:only-of-type {\n",
       "        vertical-align: middle;\n",
       "    }\n",
       "\n",
       "    .dataframe tbody tr th {\n",
       "        vertical-align: top;\n",
       "    }\n",
       "\n",
       "    .dataframe thead th {\n",
       "        text-align: right;\n",
       "    }\n",
       "</style>\n",
       "<table border=\"1\" class=\"dataframe\">\n",
       "  <thead>\n",
       "    <tr style=\"text-align: right;\">\n",
       "      <th></th>\n",
       "      <th>tweet_id</th>\n",
       "      <th>handle</th>\n",
       "      <th>retweet_count</th>\n",
       "      <th>text</th>\n",
       "      <th>mined_at</th>\n",
       "      <th>created_at</th>\n",
       "    </tr>\n",
       "  </thead>\n",
       "  <tbody>\n",
       "    <tr>\n",
       "      <th>0</th>\n",
       "      <td>1336404390471733249</td>\n",
       "      <td>Far Left</td>\n",
       "      <td>4</td>\n",
       "      <td>“A Teacher” is a promising but emotionally vac...</td>\n",
       "      <td>2020-12-08 15:40:20.372345</td>\n",
       "      <td>Tue Dec 08 20:16:50 +0000 2020</td>\n",
       "    </tr>\n",
       "    <tr>\n",
       "      <th>1</th>\n",
       "      <td>1336395346801516545</td>\n",
       "      <td>Far Left</td>\n",
       "      <td>7</td>\n",
       "      <td>“America’s gaping, cosmic black hole and here ...</td>\n",
       "      <td>2020-12-08 15:40:20.372345</td>\n",
       "      <td>Tue Dec 08 19:40:54 +0000 2020</td>\n",
       "    </tr>\n",
       "    <tr>\n",
       "      <th>2</th>\n",
       "      <td>1336383280090902531</td>\n",
       "      <td>Far Left</td>\n",
       "      <td>9</td>\n",
       "      <td>From Bad Bunny's “YHLQMDLG” to Soccer Mommy's ...</td>\n",
       "      <td>2020-12-08 15:40:20.372345</td>\n",
       "      <td>Tue Dec 08 18:52:57 +0000 2020</td>\n",
       "    </tr>\n",
       "    <tr>\n",
       "      <th>3</th>\n",
       "      <td>1336377613674291204</td>\n",
       "      <td>Far Left</td>\n",
       "      <td>192</td>\n",
       "      <td>What will tomorrow bring? https://t.co/2EE4d0FrJf</td>\n",
       "      <td>2020-12-08 15:40:20.372345</td>\n",
       "      <td>Tue Dec 08 18:30:26 +0000 2020</td>\n",
       "    </tr>\n",
       "    <tr>\n",
       "      <th>4</th>\n",
       "      <td>1336373176243253253</td>\n",
       "      <td>Far Left</td>\n",
       "      <td>13</td>\n",
       "      <td>The first time Dr. Valery Shikankov went to th...</td>\n",
       "      <td>2020-12-08 15:40:20.372345</td>\n",
       "      <td>Tue Dec 08 18:12:48 +0000 2020</td>\n",
       "    </tr>\n",
       "  </tbody>\n",
       "</table>\n",
       "</div>"
      ],
      "text/plain": [
       "              tweet_id    handle  retweet_count  \\\n",
       "0  1336404390471733249  Far Left              4   \n",
       "1  1336395346801516545  Far Left              7   \n",
       "2  1336383280090902531  Far Left              9   \n",
       "3  1336377613674291204  Far Left            192   \n",
       "4  1336373176243253253  Far Left             13   \n",
       "\n",
       "                                                text  \\\n",
       "0  “A Teacher” is a promising but emotionally vac...   \n",
       "1  “America’s gaping, cosmic black hole and here ...   \n",
       "2  From Bad Bunny's “YHLQMDLG” to Soccer Mommy's ...   \n",
       "3  What will tomorrow bring? https://t.co/2EE4d0FrJf   \n",
       "4  The first time Dr. Valery Shikankov went to th...   \n",
       "\n",
       "                    mined_at                      created_at  \n",
       "0 2020-12-08 15:40:20.372345  Tue Dec 08 20:16:50 +0000 2020  \n",
       "1 2020-12-08 15:40:20.372345  Tue Dec 08 19:40:54 +0000 2020  \n",
       "2 2020-12-08 15:40:20.372345  Tue Dec 08 18:52:57 +0000 2020  \n",
       "3 2020-12-08 15:40:20.372345  Tue Dec 08 18:30:26 +0000 2020  \n",
       "4 2020-12-08 15:40:20.372345  Tue Dec 08 18:12:48 +0000 2020  "
      ]
     },
     "execution_count": 11,
     "metadata": {},
     "output_type": "execute_result"
    }
   ],
   "source": [
    "# Taking the tweets output from tweetminer and converting it into a pandas dataframe\n",
    "# A: Left\n",
    "\n",
    "ny = pd.DataFrame(newyorker)\n",
    "vx = pd.DataFrame(vox)\n",
    "nt = pd.DataFrame(nytimes)\n",
    "nw = pd.DataFrame(newsweek)\n",
    "\n",
    "# Replacing the 4 twitter accounts name with Far Left\n",
    "\n",
    "listl=['NewYorker','Newsweek','nytopinion','voxdotcom']\n",
    "\n",
    "# Merging the 4 users into one dataframe and naming Far Left \n",
    "\n",
    "far_left = pd.concat([ny, vx, nt, nw], axis=0).reset_index(drop=True)\n",
    "far_left['handle'].replace(listl,[\"Far Left\",\"Far Left\",\"Far Left\",\"Far Left\"], inplace=True)\n",
    "\n",
    "print(far_left.shape)\n",
    "far_left.head(5)"
   ]
  },
  {
   "cell_type": "code",
   "execution_count": 12,
   "metadata": {},
   "outputs": [
    {
     "name": "stdout",
     "output_type": "stream",
     "text": [
      "(11383, 6)\n"
     ]
    },
    {
     "data": {
      "text/html": [
       "<div>\n",
       "<style scoped>\n",
       "    .dataframe tbody tr th:only-of-type {\n",
       "        vertical-align: middle;\n",
       "    }\n",
       "\n",
       "    .dataframe tbody tr th {\n",
       "        vertical-align: top;\n",
       "    }\n",
       "\n",
       "    .dataframe thead th {\n",
       "        text-align: right;\n",
       "    }\n",
       "</style>\n",
       "<table border=\"1\" class=\"dataframe\">\n",
       "  <thead>\n",
       "    <tr style=\"text-align: right;\">\n",
       "      <th></th>\n",
       "      <th>tweet_id</th>\n",
       "      <th>handle</th>\n",
       "      <th>retweet_count</th>\n",
       "      <th>text</th>\n",
       "      <th>mined_at</th>\n",
       "      <th>created_at</th>\n",
       "    </tr>\n",
       "  </thead>\n",
       "  <tbody>\n",
       "    <tr>\n",
       "      <th>0</th>\n",
       "      <td>1336409224675520513</td>\n",
       "      <td>Far Right</td>\n",
       "      <td>3</td>\n",
       "      <td>EXCLUSIVE: Dad accused of beheading his two ch...</td>\n",
       "      <td>2020-12-08 15:40:46.281245</td>\n",
       "      <td>Tue Dec 08 20:36:03 +0000 2020</td>\n",
       "    </tr>\n",
       "    <tr>\n",
       "      <th>1</th>\n",
       "      <td>1336407514200612875</td>\n",
       "      <td>Far Right</td>\n",
       "      <td>5</td>\n",
       "      <td>Trump claims 'the next administration will be ...</td>\n",
       "      <td>2020-12-08 15:40:46.281245</td>\n",
       "      <td>Tue Dec 08 20:29:15 +0000 2020</td>\n",
       "    </tr>\n",
       "    <tr>\n",
       "      <th>2</th>\n",
       "      <td>1336406713688317954</td>\n",
       "      <td>Far Right</td>\n",
       "      <td>4</td>\n",
       "      <td>'Delta Dawn' toddler found dead in a Mississip...</td>\n",
       "      <td>2020-12-08 15:40:46.281245</td>\n",
       "      <td>Tue Dec 08 20:26:04 +0000 2020</td>\n",
       "    </tr>\n",
       "    <tr>\n",
       "      <th>3</th>\n",
       "      <td>1336404183491244034</td>\n",
       "      <td>Far Right</td>\n",
       "      <td>0</td>\n",
       "      <td>Special-education teacher is robbed at knifepo...</td>\n",
       "      <td>2020-12-08 15:40:46.281245</td>\n",
       "      <td>Tue Dec 08 20:16:01 +0000 2020</td>\n",
       "    </tr>\n",
       "    <tr>\n",
       "      <th>4</th>\n",
       "      <td>1336401977174061061</td>\n",
       "      <td>Far Right</td>\n",
       "      <td>10</td>\n",
       "      <td>Texas AG files legal bid to overturn Biden's v...</td>\n",
       "      <td>2020-12-08 15:40:46.281245</td>\n",
       "      <td>Tue Dec 08 20:07:15 +0000 2020</td>\n",
       "    </tr>\n",
       "  </tbody>\n",
       "</table>\n",
       "</div>"
      ],
      "text/plain": [
       "              tweet_id     handle  retweet_count  \\\n",
       "0  1336409224675520513  Far Right              3   \n",
       "1  1336407514200612875  Far Right              5   \n",
       "2  1336406713688317954  Far Right              4   \n",
       "3  1336404183491244034  Far Right              0   \n",
       "4  1336401977174061061  Far Right             10   \n",
       "\n",
       "                                                text  \\\n",
       "0  EXCLUSIVE: Dad accused of beheading his two ch...   \n",
       "1  Trump claims 'the next administration will be ...   \n",
       "2  'Delta Dawn' toddler found dead in a Mississip...   \n",
       "3  Special-education teacher is robbed at knifepo...   \n",
       "4  Texas AG files legal bid to overturn Biden's v...   \n",
       "\n",
       "                    mined_at                      created_at  \n",
       "0 2020-12-08 15:40:46.281245  Tue Dec 08 20:36:03 +0000 2020  \n",
       "1 2020-12-08 15:40:46.281245  Tue Dec 08 20:29:15 +0000 2020  \n",
       "2 2020-12-08 15:40:46.281245  Tue Dec 08 20:26:04 +0000 2020  \n",
       "3 2020-12-08 15:40:46.281245  Tue Dec 08 20:16:01 +0000 2020  \n",
       "4 2020-12-08 15:40:46.281245  Tue Dec 08 20:07:15 +0000 2020  "
      ]
     },
     "execution_count": 12,
     "metadata": {},
     "output_type": "execute_result"
    }
   ],
   "source": [
    "# Taking the tweets output from tweetminer and converting it into a pandas dataframe\n",
    "# B: Right\n",
    "\n",
    "dm=pd.DataFrame(dailymail)\n",
    "fn=pd.DataFrame(foxnews)\n",
    "np=pd.DataFrame(nypost)\n",
    "nr=pd.DataFrame(nationalreview)\n",
    "\n",
    "# Replacing the 4 twitter accounts name with Far Right\n",
    "\n",
    "listr=['DailyMail','FoxNewsOpinion','NRO','NYPostOpinion']\n",
    "\n",
    "# Merging the 4 users into one dataframe and naming Far Right\n",
    "\n",
    "far_right = pd.concat([dm, fn, np, nr], axis=0).reset_index(drop=True)\n",
    "far_right['handle'].replace(listr,[\"Far Right\",\"Far Right\",\"Far Right\",\"Far Right\"], inplace=True)\n",
    "\n",
    "print(far_right.shape)\n",
    "far_right.head(5)"
   ]
  },
  {
   "cell_type": "markdown",
   "metadata": {},
   "source": [
    "#### Merging DataFrame"
   ]
  },
  {
   "cell_type": "code",
   "execution_count": 13,
   "metadata": {},
   "outputs": [
    {
     "name": "stdout",
     "output_type": "stream",
     "text": [
      "(23368, 6)\n"
     ]
    },
    {
     "data": {
      "text/html": [
       "<div>\n",
       "<style scoped>\n",
       "    .dataframe tbody tr th:only-of-type {\n",
       "        vertical-align: middle;\n",
       "    }\n",
       "\n",
       "    .dataframe tbody tr th {\n",
       "        vertical-align: top;\n",
       "    }\n",
       "\n",
       "    .dataframe thead th {\n",
       "        text-align: right;\n",
       "    }\n",
       "</style>\n",
       "<table border=\"1\" class=\"dataframe\">\n",
       "  <thead>\n",
       "    <tr style=\"text-align: right;\">\n",
       "      <th></th>\n",
       "      <th>tweet_id</th>\n",
       "      <th>handle</th>\n",
       "      <th>retweet_count</th>\n",
       "      <th>text</th>\n",
       "      <th>mined_at</th>\n",
       "      <th>created_at</th>\n",
       "    </tr>\n",
       "  </thead>\n",
       "  <tbody>\n",
       "    <tr>\n",
       "      <th>0</th>\n",
       "      <td>1336409224675520513</td>\n",
       "      <td>Far Right</td>\n",
       "      <td>3</td>\n",
       "      <td>EXCLUSIVE: Dad accused of beheading his two ch...</td>\n",
       "      <td>2020-12-08 15:40:46.281245</td>\n",
       "      <td>Tue Dec 08 20:36:03 +0000 2020</td>\n",
       "    </tr>\n",
       "    <tr>\n",
       "      <th>1</th>\n",
       "      <td>1336407514200612875</td>\n",
       "      <td>Far Right</td>\n",
       "      <td>5</td>\n",
       "      <td>Trump claims 'the next administration will be ...</td>\n",
       "      <td>2020-12-08 15:40:46.281245</td>\n",
       "      <td>Tue Dec 08 20:29:15 +0000 2020</td>\n",
       "    </tr>\n",
       "    <tr>\n",
       "      <th>2</th>\n",
       "      <td>1336406713688317954</td>\n",
       "      <td>Far Right</td>\n",
       "      <td>4</td>\n",
       "      <td>'Delta Dawn' toddler found dead in a Mississip...</td>\n",
       "      <td>2020-12-08 15:40:46.281245</td>\n",
       "      <td>Tue Dec 08 20:26:04 +0000 2020</td>\n",
       "    </tr>\n",
       "    <tr>\n",
       "      <th>3</th>\n",
       "      <td>1336404183491244034</td>\n",
       "      <td>Far Right</td>\n",
       "      <td>0</td>\n",
       "      <td>Special-education teacher is robbed at knifepo...</td>\n",
       "      <td>2020-12-08 15:40:46.281245</td>\n",
       "      <td>Tue Dec 08 20:16:01 +0000 2020</td>\n",
       "    </tr>\n",
       "    <tr>\n",
       "      <th>4</th>\n",
       "      <td>1336401977174061061</td>\n",
       "      <td>Far Right</td>\n",
       "      <td>10</td>\n",
       "      <td>Texas AG files legal bid to overturn Biden's v...</td>\n",
       "      <td>2020-12-08 15:40:46.281245</td>\n",
       "      <td>Tue Dec 08 20:07:15 +0000 2020</td>\n",
       "    </tr>\n",
       "  </tbody>\n",
       "</table>\n",
       "</div>"
      ],
      "text/plain": [
       "              tweet_id     handle  retweet_count  \\\n",
       "0  1336409224675520513  Far Right              3   \n",
       "1  1336407514200612875  Far Right              5   \n",
       "2  1336406713688317954  Far Right              4   \n",
       "3  1336404183491244034  Far Right              0   \n",
       "4  1336401977174061061  Far Right             10   \n",
       "\n",
       "                                                text  \\\n",
       "0  EXCLUSIVE: Dad accused of beheading his two ch...   \n",
       "1  Trump claims 'the next administration will be ...   \n",
       "2  'Delta Dawn' toddler found dead in a Mississip...   \n",
       "3  Special-education teacher is robbed at knifepo...   \n",
       "4  Texas AG files legal bid to overturn Biden's v...   \n",
       "\n",
       "                    mined_at                      created_at  \n",
       "0 2020-12-08 15:40:46.281245  Tue Dec 08 20:36:03 +0000 2020  \n",
       "1 2020-12-08 15:40:46.281245  Tue Dec 08 20:29:15 +0000 2020  \n",
       "2 2020-12-08 15:40:46.281245  Tue Dec 08 20:26:04 +0000 2020  \n",
       "3 2020-12-08 15:40:46.281245  Tue Dec 08 20:16:01 +0000 2020  \n",
       "4 2020-12-08 15:40:46.281245  Tue Dec 08 20:07:15 +0000 2020  "
      ]
     },
     "execution_count": 13,
     "metadata": {},
     "output_type": "execute_result"
    }
   ],
   "source": [
    "# Far right + Far left dataframe\n",
    "# We're calling the data \"tweets\"\n",
    "\n",
    "tweets = pd.concat([far_right, far_left], axis=0).reset_index(drop=True)\n",
    "\n",
    "print(tweets.shape)\n",
    "tweets.head(5)"
   ]
  },
  {
   "cell_type": "code",
   "execution_count": 14,
   "metadata": {},
   "outputs": [],
   "source": [
    "class color:\n",
    "   \n",
    "   PURPLE = '\\033[95m'\n",
    "   CYAN = '\\033[96m'\n",
    "   DARKCYAN = '\\033[36m'\n",
    "   BLUE = '\\033[94m'\n",
    "   GREEN = '\\033[92m'\n",
    "   YELLOW = '\\033[93m'\n",
    "   RED = '\\033[91m'\n",
    "   BOLD = '\\033[1m'\n",
    "   UNDERLINE = '\\033[4m'\n",
    "   END = '\\033[0m'"
   ]
  },
  {
   "cell_type": "markdown",
   "metadata": {},
   "source": [
    "___\n",
    "# [3] Using _Textacy_ to pre-process tweets\n",
    "\n",
    "##### This will be done on the following steps \n",
    "- 1. Extract Tweets column as a text list\n",
    "- 2. Use **Textacy** to pre-process tweets\n",
    "```\n",
    "____"
   ]
  },
  {
   "cell_type": "code",
   "execution_count": 15,
   "metadata": {},
   "outputs": [],
   "source": [
    "from textacy import preprocessing as tp\n",
    "from textacy import vsm\n",
    "import textacy as textacy"
   ]
  },
  {
   "cell_type": "code",
   "execution_count": 16,
   "metadata": {},
   "outputs": [],
   "source": [
    "# More information about textacy\n",
    "# https://github.com/chartbeat-labs/textacy\n",
    "\n",
    "# Text Pre-processing commands and documentation\n",
    "# https://textacy.readthedocs.io/en/stable/api_reference/text_processing.html"
   ]
  },
  {
   "cell_type": "code",
   "execution_count": 17,
   "metadata": {},
   "outputs": [],
   "source": [
    "# Use textacy to Pre-process text with following functions\n",
    "\n",
    "# 1. Replace all Urls\n",
    "# 2. Remove all accents\n",
    "# 3. Replace Emojis\n",
    "# 4. Replace Currency symbols\n",
    "# 5. Replace hashtags\n",
    "# 6. Replace Phone numbers\n",
    "# 7. Remove punctuations \"!@-—=+#$%’^&*)(/\\;:.,~`\"\n",
    "# 8. Normalize unicode characters in text into canonical forms.\n",
    "\n",
    "# We want to make sure we pass arguments to maintain API and Dict\n",
    "# Converting tweet column from dataframe into a list\n",
    "\n",
    "tweet_text=tweets['text'].values.tolist()\n",
    "\n",
    "# Pre-process\n",
    "\n",
    "clean_text=[tp.normalize.normalize_unicode(tp.remove.remove_punctuation(tp.replace.replace_phone_numbers\n",
    "                              (tp.replace.replace_hashtags\n",
    "                               (tp.replace_currency_symbols\n",
    "                                (tp.replace.replace_emojis\n",
    "                                 (tp.remove.remove_accents\n",
    "                                  (tp.replace.replace_urls(x)))))), marks='?!@-—=+#$%’^&*)(/\\;:.,~`'))for x in tweet_text]"
   ]
  },
  {
   "cell_type": "code",
   "execution_count": 18,
   "metadata": {},
   "outputs": [
    {
     "name": "stdout",
     "output_type": "stream",
     "text": [
      "Texas AG files legal bid to overturn Biden's victory by asking Supreme Court to rule out millions of mail-in ballots in other states https://t.co/21355dfMz8 https://t.co/fmU1spX4AR\n"
     ]
    },
    {
     "data": {
      "text/plain": [
       "list"
      ]
     },
     "execution_count": 18,
     "metadata": {},
     "output_type": "execute_result"
    }
   ],
   "source": [
    "# Original Text\n",
    "\n",
    "print(tweet_text[4])\n",
    "type(tweet_text)"
   ]
  },
  {
   "cell_type": "code",
   "execution_count": 19,
   "metadata": {},
   "outputs": [
    {
     "name": "stdout",
     "output_type": "stream",
     "text": [
      "Texas AG files legal bid to overturn Biden's victory by asking Supreme Court to rule out millions of mail in ballots in other states _URL_ _URL_\n"
     ]
    },
    {
     "data": {
      "text/plain": [
       "list"
      ]
     },
     "execution_count": 19,
     "metadata": {},
     "output_type": "execute_result"
    }
   ],
   "source": [
    "# Checking if it's a list\n",
    "# Cleaned Text\n",
    "\n",
    "print(clean_text[4])\n",
    "type(clean_text)"
   ]
  },
  {
   "cell_type": "markdown",
   "metadata": {},
   "source": [
    "___\n",
    "# [4] Building Model\n",
    "\n",
    "##### This will be done on the following steps\n",
    "- 1. Create a target\n",
    "- 2. TF IDF Vectorizer to vectorize text\n",
    "- 3. Split training and test data\n",
    "- 4. TF IDF Vectorizer to vectorize text\n",
    "- 5. Grid search paramaters\n",
    "```\n",
    "____"
   ]
  },
  {
   "cell_type": "code",
   "execution_count": 20,
   "metadata": {},
   "outputs": [
    {
     "name": "stdout",
     "output_type": "stream",
     "text": [
      "0.5128808627182472\n"
     ]
    }
   ],
   "source": [
    "# creating target\n",
    "\n",
    "y = tweets['handle'].map(lambda x: 1 if x == 'Far Right' else 0).values\n",
    "print(max(pd.Series(y).value_counts(normalize=True)))"
   ]
  },
  {
   "cell_type": "code",
   "execution_count": 21,
   "metadata": {},
   "outputs": [],
   "source": [
    "from sklearn.preprocessing import LabelEncoder\n",
    "\n",
    "# Using label Encoder for the target\n",
    "\n",
    "le = LabelEncoder()\n",
    "y2=le.fit_transform(tweets['handle'].values)"
   ]
  },
  {
   "cell_type": "code",
   "execution_count": 23,
   "metadata": {},
   "outputs": [
    {
     "name": "stdout",
     "output_type": "stream",
     "text": [
      "(23368, 23299)\n"
     ]
    }
   ],
   "source": [
    "from sklearn.linear_model import LogisticRegression\n",
    "from sklearn.neighbors import KNeighborsClassifier\n",
    "from sklearn.tree import DecisionTreeClassifier\n",
    "from sklearn.svm import SVC\n",
    "from sklearn.feature_extraction.text import CountVectorizer\n",
    "from sklearn.feature_extraction.text import TfidfVectorizer\n",
    "from collections import Counter\n",
    "\n",
    "\n",
    "# TF IDF Vectorizer to vectorize text\n",
    "\n",
    "tfv = TfidfVectorizer(ngram_range=(2,4), max_features=23299)\n",
    "cvec = CountVectorizer(ngram_range=(2,4), max_features=23299)\n",
    "X = tfv.fit_transform(clean_text).todense()\n",
    "X2= cvec.fit_transform(clean_text)\n",
    "\n",
    "print (X2.shape)"
   ]
  },
  {
   "cell_type": "code",
   "execution_count": 24,
   "metadata": {},
   "outputs": [
    {
     "name": "stdout",
     "output_type": "stream",
     "text": [
      "(23368,)\n"
     ]
    }
   ],
   "source": [
    "print (y2.shape)"
   ]
  },
  {
   "cell_type": "markdown",
   "metadata": {},
   "source": [
    "#### Split data to train and test"
   ]
  },
  {
   "cell_type": "code",
   "execution_count": 25,
   "metadata": {},
   "outputs": [
    {
     "data": {
      "text/plain": [
       "((15189, 23299), (15189,), (8179, 23299), (8179,))"
      ]
     },
     "execution_count": 25,
     "metadata": {},
     "output_type": "execute_result"
    }
   ],
   "source": [
    "from sklearn.model_selection import train_test_split\n",
    "\n",
    "X_train, X_test, y_train, y_test = train_test_split(X, y2, test_size=0.35,random_state=0)\n",
    "\n",
    "X_train.shape, y_train.shape, X_test.shape, y_test.shape"
   ]
  },
  {
   "cell_type": "markdown",
   "metadata": {},
   "source": [
    "#### Hyperparameter"
   ]
  },
  {
   "cell_type": "code",
   "execution_count": 26,
   "metadata": {},
   "outputs": [
    {
     "data": {
      "text/plain": [
       "GridSearchCV(cv=5, estimator=LogisticRegression(), n_jobs=1,\n",
       "             param_grid={'penalty': ['l2']})"
      ]
     },
     "execution_count": 26,
     "metadata": {},
     "output_type": "execute_result"
    }
   ],
   "source": [
    "from sklearn.model_selection import GridSearchCV\n",
    "\n",
    "lr = LogisticRegression()\n",
    "params = {'penalty': ['l2']}\n",
    "\n",
    "# Grid searching\n",
    "\n",
    "gs = GridSearchCV(lr, param_grid=params, cv=5, verbose=0,n_jobs=1)\n",
    "gs.fit(X_train, y_train)"
   ]
  },
  {
   "cell_type": "code",
   "execution_count": 27,
   "metadata": {},
   "outputs": [
    {
     "name": "stdout",
     "output_type": "stream",
     "text": [
      "{'penalty': 'l2'}\n",
      "0.8476524878701414\n"
     ]
    }
   ],
   "source": [
    "print (gs.best_params_)\n",
    "print (gs.best_score_)"
   ]
  },
  {
   "cell_type": "code",
   "execution_count": 28,
   "metadata": {},
   "outputs": [
    {
     "name": "stdout",
     "output_type": "stream",
     "text": [
      "0.8412667061689381\n",
      "0.513529527947857\n"
     ]
    }
   ],
   "source": [
    "from sklearn.model_selection import cross_val_score\n",
    "accuracies = cross_val_score(LogisticRegression(), X_train, y_train, cv=3)\n",
    "\n",
    "print (accuracies.mean())\n",
    "print (1-y_train.mean())"
   ]
  },
  {
   "cell_type": "markdown",
   "metadata": {},
   "source": [
    "#### Model Score"
   ]
  },
  {
   "cell_type": "code",
   "execution_count": 29,
   "metadata": {},
   "outputs": [
    {
     "name": "stdout",
     "output_type": "stream",
     "text": [
      "              precision    recall  f1-score   support\n",
      "\n",
      "           0       0.79      0.95      0.86      4185\n",
      "           1       0.93      0.74      0.83      3994\n",
      "\n",
      "    accuracy                           0.85      8179\n",
      "   macro avg       0.86      0.84      0.84      8179\n",
      "weighted avg       0.86      0.85      0.85      8179\n",
      "\n",
      "[[3955  230]\n",
      " [1021 2973]]\n"
     ]
    },
    {
     "data": {
      "text/plain": [
       "<AxesSubplot:>"
      ]
     },
     "execution_count": 29,
     "metadata": {},
     "output_type": "execute_result"
    },
    {
     "data": {
      "image/png": "[encoded data removed]",
      "text/plain": [
       "<Figure size 432x288 with 2 Axes>"
      ]
     },
     "metadata": {
      "needs_background": "light"
     },
     "output_type": "display_data"
    }
   ],
   "source": [
    "from sklearn.metrics import confusion_matrix, classification_report\n",
    "\n",
    "lr = LogisticRegression(penalty='l2',C=1)\n",
    "\n",
    "lr.fit(X_train, y_train)\n",
    "pred_lr = lr.predict(X_test)\n",
    "\n",
    "#lr_mod=lr.fit(X, y2)\n",
    "\n",
    "print(classification_report(y_test, pred_lr))\n",
    "print(confusion_matrix(y_test, pred_lr))\n",
    "lr_cm=confusion_matrix(y_test, pred_lr)\n",
    "sns.heatmap(lr_cm, annot=True, fmt=\"d\")"
   ]
  },
  {
   "cell_type": "markdown",
   "metadata": {},
   "source": [
    "___\n",
    "# [5] Using outside training Media account to test module\n",
    "\n",
    "##### This will be done on the following steps \n",
    "- 1. Use an outside **Far Left** and **Far Right** media twitter account to test prediction module\n",
    "- 2. Huff Post **Far Left**\n",
    "- 3. The American Spectator **Far Right**\n",
    "- 4. Create a Prediction function to predict biasness of tweet\n",
    "___"
   ]
  },
  {
   "cell_type": "markdown",
   "metadata": {},
   "source": [
    "#### [1] Huff Post"
   ]
  },
  {
   "cell_type": "code",
   "execution_count": 30,
   "metadata": {},
   "outputs": [
    {
     "data": {
      "text/html": [
       "<div>\n",
       "<style scoped>\n",
       "    .dataframe tbody tr th:only-of-type {\n",
       "        vertical-align: middle;\n",
       "    }\n",
       "\n",
       "    .dataframe tbody tr th {\n",
       "        vertical-align: top;\n",
       "    }\n",
       "\n",
       "    .dataframe thead th {\n",
       "        text-align: right;\n",
       "    }\n",
       "</style>\n",
       "<table border=\"1\" class=\"dataframe\">\n",
       "  <thead>\n",
       "    <tr style=\"text-align: right;\">\n",
       "      <th></th>\n",
       "      <th>tweet_id</th>\n",
       "      <th>handle</th>\n",
       "      <th>retweet_count</th>\n",
       "      <th>text</th>\n",
       "      <th>mined_at</th>\n",
       "      <th>created_at</th>\n",
       "    </tr>\n",
       "  </thead>\n",
       "  <tbody>\n",
       "    <tr>\n",
       "      <th>0</th>\n",
       "      <td>1336411427800834058</td>\n",
       "      <td>HuffPost</td>\n",
       "      <td>2</td>\n",
       "      <td>The Queen of Pop's new ink is very much a fami...</td>\n",
       "      <td>2020-12-08 15:50:43.841933</td>\n",
       "      <td>Tue Dec 08 20:44:48 +0000 2020</td>\n",
       "    </tr>\n",
       "    <tr>\n",
       "      <th>1</th>\n",
       "      <td>1336410470987657216</td>\n",
       "      <td>HuffPost</td>\n",
       "      <td>21</td>\n",
       "      <td>Late night hosts aren’t at all surprised that ...</td>\n",
       "      <td>2020-12-08 15:50:43.841933</td>\n",
       "      <td>Tue Dec 08 20:41:00 +0000 2020</td>\n",
       "    </tr>\n",
       "  </tbody>\n",
       "</table>\n",
       "</div>"
      ],
      "text/plain": [
       "              tweet_id    handle  retweet_count  \\\n",
       "0  1336411427800834058  HuffPost              2   \n",
       "1  1336410470987657216  HuffPost             21   \n",
       "\n",
       "                                                text  \\\n",
       "0  The Queen of Pop's new ink is very much a fami...   \n",
       "1  Late night hosts aren’t at all surprised that ...   \n",
       "\n",
       "                    mined_at                      created_at  \n",
       "0 2020-12-08 15:50:43.841933  Tue Dec 08 20:44:48 +0000 2020  \n",
       "1 2020-12-08 15:50:43.841933  Tue Dec 08 20:41:00 +0000 2020  "
      ]
     },
     "execution_count": 30,
     "metadata": {},
     "output_type": "execute_result"
    }
   ],
   "source": [
    "# Using Huff post to test prediction\n",
    "# Far Left\n",
    "# https://twitter.com/HuffPost\n",
    "\n",
    "huffpost = miner.mine_user_tweets(user=\"HuffPost\")\n",
    "hp = pd.DataFrame(huffpost)\n",
    "hp.head(2)"
   ]
  },
  {
   "cell_type": "code",
   "execution_count": 31,
   "metadata": {},
   "outputs": [
    {
     "name": "stdout",
     "output_type": "stream",
     "text": [
      "              precision    recall  f1-score   support\n",
      "\n",
      "           0       1.00      0.92      0.96      2999\n",
      "           1       0.00      0.00      0.00         0\n",
      "\n",
      "    accuracy                           0.92      2999\n",
      "   macro avg       0.50      0.46      0.48      2999\n",
      "weighted avg       1.00      0.92      0.96      2999\n",
      "\n",
      "[[2750  249]\n",
      " [   0    0]]\n"
     ]
    },
    {
     "data": {
      "text/plain": [
       "<AxesSubplot:>"
      ]
     },
     "execution_count": 31,
     "metadata": {},
     "output_type": "execute_result"
    },
    {
     "data": {
      "image/png": "[encoded data removed]",
      "text/plain": [
       "<Figure size 432x288 with 2 Axes>"
      ]
     },
     "metadata": {
      "needs_background": "light"
     },
     "output_type": "display_data"
    }
   ],
   "source": [
    "# Mining tweet\n",
    "\n",
    "tweet_hp=hp['text'].values.tolist()\n",
    "\n",
    "# Pre-process\n",
    "\n",
    "clean_hp=[tp.normalize.normalize_unicode(tp.remove.remove_punctuation(tp.replace.replace_phone_numbers\n",
    "                              (tp.replace.replace_hashtags\n",
    "                               (tp.replace_currency_symbols\n",
    "                                (tp.replace.replace_emojis\n",
    "                                 (tp.remove.remove_accents\n",
    "                                  (tp.replace.replace_urls(x)))))), marks='?!@-—=+#$%’^&*)(/\\;:.,~`'))for x in tweet_hp]\n",
    "\n",
    "# TF IDF Vectorizer\n",
    "\n",
    "X3 = tfv.fit_transform(clean_hp).todense()\n",
    "y3=le.fit_transform(hp['handle'].values)\n",
    "\n",
    "# Fitting Module and printing confusion matrix\n",
    "\n",
    "lr.fit(X, y2)\n",
    "pred_lr = lr.predict(X3)\n",
    "\n",
    "print(classification_report(y3, pred_lr))\n",
    "print(confusion_matrix(y3, pred_lr))\n",
    "lr_cm=confusion_matrix(y3, pred_lr)\n",
    "sns.heatmap(lr_cm, annot=True, fmt=\"d\")"
   ]
  },
  {
   "cell_type": "markdown",
   "metadata": {},
   "source": [
    "#### **[2] The American Spectator**"
   ]
  },
  {
   "cell_type": "code",
   "execution_count": 32,
   "metadata": {},
   "outputs": [
    {
     "data": {
      "text/html": [
       "<div>\n",
       "<style scoped>\n",
       "    .dataframe tbody tr th:only-of-type {\n",
       "        vertical-align: middle;\n",
       "    }\n",
       "\n",
       "    .dataframe tbody tr th {\n",
       "        vertical-align: top;\n",
       "    }\n",
       "\n",
       "    .dataframe thead th {\n",
       "        text-align: right;\n",
       "    }\n",
       "</style>\n",
       "<table border=\"1\" class=\"dataframe\">\n",
       "  <thead>\n",
       "    <tr style=\"text-align: right;\">\n",
       "      <th></th>\n",
       "      <th>tweet_id</th>\n",
       "      <th>handle</th>\n",
       "      <th>retweet_count</th>\n",
       "      <th>text</th>\n",
       "      <th>mined_at</th>\n",
       "      <th>created_at</th>\n",
       "    </tr>\n",
       "  </thead>\n",
       "  <tbody>\n",
       "    <tr>\n",
       "      <th>0</th>\n",
       "      <td>1336393370525196291</td>\n",
       "      <td>amspectator</td>\n",
       "      <td>3</td>\n",
       "      <td>RIP Chuck Yeager by Larry Thornberry \\n\\nhttps...</td>\n",
       "      <td>2020-12-08 15:51:03.159693</td>\n",
       "      <td>Tue Dec 08 19:33:03 +0000 2020</td>\n",
       "    </tr>\n",
       "    <tr>\n",
       "      <th>1</th>\n",
       "      <td>1336355330993885190</td>\n",
       "      <td>amspectator</td>\n",
       "      <td>1</td>\n",
       "      <td>Can Commercial Partnerships Save NASA From Bid...</td>\n",
       "      <td>2020-12-08 15:51:03.159693</td>\n",
       "      <td>Tue Dec 08 17:01:53 +0000 2020</td>\n",
       "    </tr>\n",
       "  </tbody>\n",
       "</table>\n",
       "</div>"
      ],
      "text/plain": [
       "              tweet_id       handle  retweet_count  \\\n",
       "0  1336393370525196291  amspectator              3   \n",
       "1  1336355330993885190  amspectator              1   \n",
       "\n",
       "                                                text  \\\n",
       "0  RIP Chuck Yeager by Larry Thornberry \\n\\nhttps...   \n",
       "1  Can Commercial Partnerships Save NASA From Bid...   \n",
       "\n",
       "                    mined_at                      created_at  \n",
       "0 2020-12-08 15:51:03.159693  Tue Dec 08 19:33:03 +0000 2020  \n",
       "1 2020-12-08 15:51:03.159693  Tue Dec 08 17:01:53 +0000 2020  "
      ]
     },
     "execution_count": 32,
     "metadata": {},
     "output_type": "execute_result"
    }
   ],
   "source": [
    "# Using The American Spectator to test prediction\n",
    "# Far Right\n",
    "# https://twitter.com/amspectator\n",
    "\n",
    "amspectator = miner.mine_user_tweets(user=\"amspectator\")\n",
    "ams = pd.DataFrame(amspectator)\n",
    "ams.head(2)"
   ]
  },
  {
   "cell_type": "code",
   "execution_count": 33,
   "metadata": {},
   "outputs": [
    {
     "name": "stdout",
     "output_type": "stream",
     "text": [
      "              precision    recall  f1-score   support\n",
      "\n",
      "           0       1.00      0.93      0.97      2966\n",
      "           1       0.00      0.00      0.00         0\n",
      "\n",
      "    accuracy                           0.93      2966\n",
      "   macro avg       0.50      0.47      0.48      2966\n",
      "weighted avg       1.00      0.93      0.97      2966\n",
      "\n",
      "[[2767  199]\n",
      " [   0    0]]\n"
     ]
    },
    {
     "data": {
      "text/plain": [
       "<AxesSubplot:>"
      ]
     },
     "execution_count": 33,
     "metadata": {},
     "output_type": "execute_result"
    },
    {
     "data": {
      "image/png": "[encoded data removed]",
      "text/plain": [
       "<Figure size 432x288 with 2 Axes>"
      ]
     },
     "metadata": {
      "needs_background": "light"
     },
     "output_type": "display_data"
    }
   ],
   "source": [
    "# Mining tweet\n",
    "\n",
    "tweet_ams=ams['text'].values.tolist()\n",
    "\n",
    "# Pre-process\n",
    "\n",
    "clean_ams=[tp.normalize.normalize_unicode(tp.remove.remove_punctuation(tp.replace.replace_phone_numbers\n",
    "                              (tp.replace.replace_hashtags\n",
    "                               (tp.replace_currency_symbols\n",
    "                                (tp.replace.replace_emojis\n",
    "                                 (tp.remove.remove_accents\n",
    "                                  (tp.replace.replace_urls(x)))))), marks='?!@-—=+#$%’^&*)(/\\;:.,~`'))for x in tweet_ams]\n",
    "\n",
    "# TF IDF Vectorizer\n",
    "\n",
    "X4 = tfv.fit_transform(clean_ams).todense()\n",
    "y4=le.fit_transform(ams['handle'].values)\n",
    "\n",
    "# Fitting Module and printing confusion matrix\n",
    "\n",
    "lr.fit(X, y2)\n",
    "pred_lr = lr.predict(X4)\n",
    "\n",
    "\n",
    "print(classification_report(y4, pred_lr))\n",
    "print(confusion_matrix(y4, pred_lr))\n",
    "lr_cm=confusion_matrix(y4, pred_lr)\n",
    "sns.heatmap(lr_cm, annot=True, fmt=\"d\")"
   ]
  },
  {
   "cell_type": "markdown",
   "metadata": {},
   "source": [
    "#### **Create Prediction Function**"
   ]
  },
  {
   "cell_type": "code",
   "execution_count": 34,
   "metadata": {},
   "outputs": [
    {
     "data": {
      "text/html": [
       "<div>\n",
       "<style scoped>\n",
       "    .dataframe tbody tr th:only-of-type {\n",
       "        vertical-align: middle;\n",
       "    }\n",
       "\n",
       "    .dataframe tbody tr th {\n",
       "        vertical-align: top;\n",
       "    }\n",
       "\n",
       "    .dataframe thead th {\n",
       "        text-align: right;\n",
       "    }\n",
       "</style>\n",
       "<table border=\"1\" class=\"dataframe\">\n",
       "  <thead>\n",
       "    <tr style=\"text-align: right;\">\n",
       "      <th></th>\n",
       "      <th>Proba_Left</th>\n",
       "      <th>Proba_Right</th>\n",
       "    </tr>\n",
       "  </thead>\n",
       "  <tbody>\n",
       "    <tr>\n",
       "      <th>0</th>\n",
       "      <td>0.573585</td>\n",
       "      <td>0.426415</td>\n",
       "    </tr>\n",
       "  </tbody>\n",
       "</table>\n",
       "</div>"
      ],
      "text/plain": [
       "   Proba_Left  Proba_Right\n",
       "0    0.573585     0.426415"
      ]
     },
     "execution_count": 34,
     "metadata": {},
     "output_type": "execute_result"
    }
   ],
   "source": [
    "# Fitting into LR\n",
    "\n",
    "estimator = LogisticRegression(penalty='l2',C=1)\n",
    "estimator.fit(X,y)\n",
    "\n",
    "# Testing TfIdf vectors with copied tweets\n",
    "# First is from Biden\n",
    "\n",
    "source_test = [\n",
    "    \"NFL sexual harassment investigation finds Washington Football Team paid out a confidential settlement in 2009\",\n",
    "]\n",
    "\n",
    "\n",
    "# Printing results\n",
    "\n",
    "Xtest = tfv.transform(source_test)\n",
    "ac=pd.DataFrame(estimator.predict_proba(Xtest), columns=[\"Proba_Left\", \"Proba_Right\"])\n",
    "ac"
   ]
  },
  {
   "cell_type": "code",
   "execution_count": 35,
   "metadata": {},
   "outputs": [
    {
     "data": {
      "text/plain": [
       "array([[0.50731668, 0.49268332],\n",
       "       [0.80904612, 0.19095388],\n",
       "       [0.38904739, 0.61095261],\n",
       "       ...,\n",
       "       [0.73975502, 0.26024498],\n",
       "       [0.83732348, 0.16267652],\n",
       "       [0.71868203, 0.28131797]])"
      ]
     },
     "execution_count": 35,
     "metadata": {},
     "output_type": "execute_result"
    }
   ],
   "source": [
    "estimator.predict_proba(X)"
   ]
  },
  {
   "cell_type": "markdown",
   "metadata": {},
   "source": [
    "#### Prediction Function"
   ]
  },
  {
   "cell_type": "code",
   "execution_count": 36,
   "metadata": {},
   "outputs": [],
   "source": [
    "# Creating a prediction function\n",
    "# You could a paste a text from a tweet by either candidates and the module will predict to whom it belongs\n",
    "\n",
    "def predict_text() :\n",
    "    \n",
    "    print(color.BOLD +'\"PASTE TWEET TEXT HERE\"'+ color.END)\n",
    "    in_no = [input()]\n",
    "    \n",
    "    \n",
    "    # Text Preprocess\n",
    "    \n",
    "    cleaning=[tp.normalize.normalize_unicode(tp.remove.remove_punctuation(tp.replace.replace_phone_numbers\n",
    "                              (tp.replace.replace_hashtags\n",
    "                               (tp.replace_currency_symbols\n",
    "                                (tp.replace.replace_emojis\n",
    "                                 (tp.remove.remove_accents\n",
    "                                  (tp.replace.replace_urls(x)))))), marks='?!@,-—=+#$%’^&*)(/\\;:.,~`'))for x in in_no]\n",
    "    # TF IDF Vectorizer\n",
    "    \n",
    "    Xtest1 = tfv.transform(cleaning)\n",
    "    pr=pd.DataFrame(estimator.predict_proba(Xtest1), columns=[\"Proba_Left\", \"Proba_Right\"])\n",
    "    \n",
    "    # Plotting a bar chart\n",
    "    \n",
    "    fig = plt.figure()\n",
    "    ax = fig.add_axes([0,0,0.5,0.5])\n",
    "    cand = ['Proba_Left', 'Proba_Right']\n",
    "    probabilty = [float(pr['Proba_Left']*100),float(pr['Proba_Right']*100)]\n",
    "    ax.bar(cand,probabilty)\n",
    "    plt.show()\n",
    "    \n",
    "    # Print Answer\n",
    "    \n",
    "    if min(pr) == 'Proba_Left' :\n",
    "        print(color.BOLD + color.BLUE +\"THIS TWEET IS PROBABLY **FAR LEFT**\"+ color.END)\n",
    "    else:\n",
    "        print (color.BOLD + color.RED +\"THIS TWEET IS PROBABLY BY **FAR RIGHT**\"+ color.END)\n"
   ]
  },
  {
   "cell_type": "code",
   "execution_count": 37,
   "metadata": {},
   "outputs": [
    {
     "name": "stdout",
     "output_type": "stream",
     "text": [
      "\u001b[1m\"PASTE TWEET TEXT HERE\"\u001b[0m\n"
     ]
    },
    {
     "name": "stdin",
     "output_type": "stream",
     "text": [
      " Join me for a conversation with the next U.S. Senators from Georgia,  @ReverendWarnock  and  @Ossoff , along with  @StaceyAbrams  and  @NikemaWilliams . The stakes couldn’t be higher for their runoffs: \n"
     ]
    },
    {
     "data": {
      "image/png": "[encoded data removed]",
      "text/plain": [
       "<Figure size 432x288 with 1 Axes>"
      ]
     },
     "metadata": {
      "needs_background": "light"
     },
     "output_type": "display_data"
    },
    {
     "name": "stdout",
     "output_type": "stream",
     "text": [
      "\u001b[1m\u001b[94mTHIS TWEET IS PROBABLY **FAR LEFT**\u001b[0m\n"
     ]
    }
   ],
   "source": [
    "predict_text()"
   ]
  },
  {
   "cell_type": "code",
   "execution_count": 38,
   "metadata": {},
   "outputs": [],
   "source": [
    "# Text used is from @BarackObama Tweet\n",
    "# https://twitter.com/BarackObama/status/1334614943379968003"
   ]
  },
  {
   "cell_type": "code",
   "execution_count": null,
   "metadata": {},
   "outputs": [],
   "source": []
  }
 ],
 "metadata": {
  "kernelspec": {
   "display_name": "Python 3",
   "language": "python",
   "name": "python3"
  },
  "language_info": {
   "codemirror_mode": {
    "name": "ipython",
    "version": 3
   },
   "file_extension": ".py",
   "mimetype": "text/x-python",
   "name": "python",
   "nbconvert_exporter": "python",
   "pygments_lexer": "ipython3",
   "version": "3.8.5"
  }
 },
 "nbformat": 4,
 "nbformat_minor": 4
}
